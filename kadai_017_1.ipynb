{
  "nbformat": 4,
  "nbformat_minor": 0,
  "metadata": {
    "colab": {
      "provenance": [],
      "authorship_tag": "ABX9TyOAhU41fbg1k7Q1DRof4kEQ",
      "include_colab_link": true
    },
    "kernelspec": {
      "name": "python3",
      "display_name": "Python 3"
    },
    "language_info": {
      "name": "python"
    }
  },
  "cells": [
    {
      "cell_type": "markdown",
      "metadata": {
        "id": "view-in-github",
        "colab_type": "text"
      },
      "source": [
        "<a href=\"https://colab.research.google.com/github/Fukutaro1010/python-basic-kadai/blob/main/kadai_017_1.ipynb\" target=\"_parent\"><img src=\"https://colab.research.google.com/assets/colab-badge.svg\" alt=\"Open In Colab\"/></a>"
      ]
    },
    {
      "cell_type": "code",
      "execution_count": 1,
      "metadata": {
        "id": "_bG6D4mypjJq",
        "colab": {
          "base_uri": "https://localhost:8080/",
          "height": 259
        },
        "outputId": "b5b94352-ab2b-48f2-ead2-5a617b5acc83"
      },
      "outputs": [
        {
          "output_type": "error",
          "ename": "TypeError",
          "evalue": "ignored",
          "traceback": [
            "\u001b[0;31m---------------------------------------------------------------------------\u001b[0m",
            "\u001b[0;31mTypeError\u001b[0m                                 Traceback (most recent call last)",
            "\u001b[0;32m<ipython-input-1-f8d31049c276>\u001b[0m in \u001b[0;36m<cell line: 18>\u001b[0;34m()\u001b[0m\n\u001b[1;32m     16\u001b[0m     \u001b[0mprint\u001b[0m\u001b[0;34m(\u001b[0m\u001b[0mself\u001b[0m\u001b[0;34m.\u001b[0m\u001b[0mname\u001b[0m\u001b[0;34m)\u001b[0m\u001b[0;34m\u001b[0m\u001b[0;34m\u001b[0m\u001b[0m\n\u001b[1;32m     17\u001b[0m \u001b[0;34m\u001b[0m\u001b[0m\n\u001b[0;32m---> 18\u001b[0;31m \u001b[0mhuman\u001b[0m \u001b[0;34m=\u001b[0m \u001b[0mHuman\u001b[0m\u001b[0;34m(\u001b[0m\u001b[0;34m)\u001b[0m\u001b[0;34m\u001b[0m\u001b[0;34m\u001b[0m\u001b[0m\n\u001b[0m\u001b[1;32m     19\u001b[0m \u001b[0;34m\u001b[0m\u001b[0m\n\u001b[1;32m     20\u001b[0m \u001b[0mhuman\u001b[0m\u001b[0;34m.\u001b[0m\u001b[0mcheck_adult\u001b[0m\u001b[0;34m(\u001b[0m\u001b[0;34m\"山田\"\u001b[0m\u001b[0;34m,\u001b[0m \u001b[0;36m25\u001b[0m\u001b[0;34m)\u001b[0m\u001b[0;34m\u001b[0m\u001b[0;34m\u001b[0m\u001b[0m\n",
            "\u001b[0;31mTypeError\u001b[0m: Human.__init__() missing 2 required positional arguments: 'name' and 'age'"
          ]
        }
      ],
      "source": [
        "class Human:\n",
        "\n",
        "  def __init__(self, name, age):\n",
        "    self.name = name\n",
        "    self.age = age\n",
        "    #self.judge = judge\n",
        "\n",
        "  def check_adult(self, name, age):\n",
        "    self.name = name\n",
        "    self.age = age\n",
        "    #if self.age >= 20:\n",
        "        #print(\"大人\")\n",
        "\n",
        "    #else:\n",
        "        #print(\"子供\")\n",
        "    print(self.name)\n",
        "\n",
        "human = Human()\n",
        "\n",
        "human.check_adult(\"山田\", 25)\n"
      ]
    },
    {
      "cell_type": "code",
      "execution_count": 1,
      "metadata": {
        "colab": {
          "base_uri": "https://localhost:8080/"
        },
        "outputId": "fc08bcfb-0d78-43b1-c2c0-f20b0857367d",
        "id": "NrQDjacTKNcg"
      },
      "outputs": [
        {
          "output_type": "stream",
          "name": "stdout",
          "text": [
            "山田\n",
            "田中\n",
            "高橋\n",
            "山田さんは子供です\n"
          ]
        }
      ],
      "source": [
        "class Human:\n",
        "\n",
        "  def _init_(self, name, age):\n",
        "    self.name = name\n",
        "    self.age = age\n",
        "\n",
        "#check_adultメソッドの作成\n",
        "  def check_adult(self, name, age):\n",
        "    self.name = name\n",
        "    self.age = age\n",
        "\n",
        "    if self.age >= 20:\n",
        "        jugde = \"大人\"\n",
        "\n",
        "    else:\n",
        "        jugde = \"子供\"\n",
        "\n",
        "    print(self.name+\"さんは\"+ jugde +\"です\")\n",
        "\n",
        "human = Human()\n",
        "\n",
        "#リストに要素を追加して要素分だけメソッドを繰り返し\n",
        "list =[\"山田\", \"田中\", \"高橋\"]\n",
        "num = 0\n",
        "while num < len(list):\n",
        "\n",
        " if num == len(list):\n",
        "   print(\"終了\")\n",
        "   break\n",
        "\n",
        " print(list[num])\n",
        " num = num + 1\n",
        "\n",
        "#check_adultメソッドの挙動確認\n",
        "human.check_adult(\"山田\", 18)\n",
        "\n"
      ]
    },
    {
      "cell_type": "code",
      "source": [
        "class Human:\n",
        "\n",
        "  def __init__(self, name, age):\n",
        "    self.name = name\n",
        "    self.age = age\n",
        "    self.age = 9\n",
        "\n",
        "\n",
        "\n",
        "info = Human(\"山田\", 25)\n",
        "\n",
        "print(info.name)\n",
        "print(info.age)\n",
        "\n",
        "info = Human(\"田中\", 60)\n",
        "print(info.age)"
      ],
      "metadata": {
        "colab": {
          "base_uri": "https://localhost:8080/"
        },
        "id": "r1tFif62xnhj",
        "outputId": "bf7b0205-9ae8-4a34-cbbe-176900bc7f30"
      },
      "execution_count": null,
      "outputs": [
        {
          "output_type": "stream",
          "name": "stdout",
          "text": [
            "山田\n",
            "9\n",
            "9\n"
          ]
        }
      ]
    }
  ]
}