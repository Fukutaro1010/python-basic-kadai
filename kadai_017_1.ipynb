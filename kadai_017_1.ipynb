{
  "nbformat": 4,
  "nbformat_minor": 0,
  "metadata": {
    "colab": {
      "provenance": [],
      "authorship_tag": "ABX9TyOhrCbwnZhJVRtPwC7UB6K6",
      "include_colab_link": true
    },
    "kernelspec": {
      "name": "python3",
      "display_name": "Python 3"
    },
    "language_info": {
      "name": "python"
    }
  },
  "cells": [
    {
      "cell_type": "markdown",
      "metadata": {
        "id": "view-in-github",
        "colab_type": "text"
      },
      "source": [
        "<a href=\"https://colab.research.google.com/github/Fukutaro1010/python-basic-kadai/blob/main/kadai_017_1.ipynb\" target=\"_parent\"><img src=\"https://colab.research.google.com/assets/colab-badge.svg\" alt=\"Open In Colab\"/></a>"
      ]
    },
    {
      "cell_type": "code",
      "execution_count": 1,
      "metadata": {
        "colab": {
          "base_uri": "https://localhost:8080/"
        },
        "outputId": "fc08bcfb-0d78-43b1-c2c0-f20b0857367d",
        "id": "NrQDjacTKNcg"
      },
      "outputs": [
        {
          "output_type": "stream",
          "name": "stdout",
          "text": [
            "山田\n",
            "田中\n",
            "高橋\n",
            "山田さんは子供です\n"
          ]
        }
      ],
      "source": [
        "class Human:\n",
        "\n",
        "  def _init_(self, name, age):\n",
        "    self.name = name\n",
        "    self.age = age\n",
        "\n",
        "#check_adultメソッドの作成\n",
        "  def check_adult(self, name, age):\n",
        "    self.name = name\n",
        "    self.age = age\n",
        "\n",
        "    if self.age >= 20:\n",
        "        jugde = \"大人\"\n",
        "\n",
        "    else:\n",
        "        jugde = \"子供\"\n",
        "\n",
        "    print(self.name+\"さんは\"+ jugde +\"です\")\n",
        "\n",
        "human = Human()\n",
        "\n",
        "#リストに要素を追加して要素分だけメソッドを繰り返し\n",
        "list =[\"山田\", \"田中\", \"高橋\"]\n",
        "num = 0\n",
        "while num < len(list):\n",
        "\n",
        " if num == len(list):\n",
        "   print(\"終了\")\n",
        "   break\n",
        "\n",
        " print(list[num])\n",
        " num = num + 1\n",
        "\n",
        "#check_adultメソッドの挙動確認\n",
        "human.check_adult(\"山田\", 18)\n",
        "\n"
      ]
    }
  ]
}