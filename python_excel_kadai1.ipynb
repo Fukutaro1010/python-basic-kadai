{
  "nbformat": 4,
  "nbformat_minor": 0,
  "metadata": {
    "colab": {
      "provenance": [],
      "authorship_tag": "ABX9TyNtOiZNUGYIFWnPNp2t/0gU",
      "include_colab_link": true
    },
    "kernelspec": {
      "name": "python3",
      "display_name": "Python 3"
    },
    "language_info": {
      "name": "python"
    }
  },
  "cells": [
    {
      "cell_type": "markdown",
      "metadata": {
        "id": "view-in-github",
        "colab_type": "text"
      },
      "source": [
        "<a href=\"https://colab.research.google.com/github/Fukutaro1010/python-basic-kadai/blob/main/python_excel_kadai1.ipynb\" target=\"_parent\"><img src=\"https://colab.research.google.com/assets/colab-badge.svg\" alt=\"Open In Colab\"/></a>"
      ]
    },
    {
      "cell_type": "code",
      "source": [],
      "metadata": {
        "id": "chhNi-lN0znz"
      },
      "execution_count": null,
      "outputs": []
    },
    {
      "cell_type": "code",
      "execution_count": 6,
      "metadata": {
        "id": "D5kquUmDx1f9"
      },
      "outputs": [],
      "source": [
        "import openpyxl\n",
        "from datetime import datetime\n",
        "\n",
        "\n",
        "workbook = openpyxl.Workbook()\n",
        "\n",
        "sheet = workbook.active\n",
        "\n",
        "today = datetime.today()\n",
        "\n",
        "sheet['B2'].value = '請求書'\n",
        "sheet['B4'].value = '株式会社ABC'\n",
        "sheet['B5'].value = '〒101-0022 東京都千代田区神田練塀町300'\n",
        "sheet['B6'].value = 'TEL:03-1234-5678 FAX:03-1234-5678'\n",
        "sheet['B7'].value = '担当者名:鈴木一郎 様'\n",
        "\n",
        "sheet['F4'].value = 'No.'\n",
        "sheet['G4'].value = '0001'\n",
        "sheet['F5'].value = '日付'\n",
        "sheet['G5'].value = today.strftime('%Y/%m/%d')\n",
        "\n",
        "wb = openpyxl.Workbook()\n",
        "ws = wb.active\n",
        "\n",
        "sheet['B10'].value = '商品名'\n",
        "sheet['B11'].value = '商品A'\n",
        "sheet['B12'].value = '商品B'\n",
        "\n",
        "sheet['C10'].value = '数量'\n",
        "sheet['C11'].value = '2'\n",
        "sheet['C12'].value = '1'\n",
        "\n",
        "sheet['D10'].value = '単価'\n",
        "sheet['D11'].value = '10000'\n",
        "sheet['D12'].value = '15000'\n",
        "\n",
        "sheet['E10'].value = '金額'\n",
        "sheet['E11'].value = '20000'\n",
        "sheet['E12'].value = '15000'\n",
        "sheet['E13'].value = '35000'\n",
        "\n",
        "sheet['B15'].value = '合計'\n",
        "sheet['B16'].value = '消費税'\n",
        "sheet['B17'].value = '税込計算'\n",
        "\n",
        "sheet['E15'].value = '35000'\n",
        "sheet['E16'].value = '3500'\n",
        "sheet['E17'].value = '38500'\n",
        "\n",
        "save_filename = f\"請求書_{today.strftime('%Y%m%d')}.xlsx\"\n",
        "\n",
        "workbook.save(save_filename)\n",
        "\n",
        "\n",
        "\n"
      ]
    }
  ]
}