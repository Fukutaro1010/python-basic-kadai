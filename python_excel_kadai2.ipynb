{
  "nbformat": 4,
  "nbformat_minor": 0,
  "metadata": {
    "colab": {
      "provenance": [],
      "authorship_tag": "ABX9TyMXGQJ08LswDoCybRSKDaYx",
      "include_colab_link": true
    },
    "kernelspec": {
      "name": "python3",
      "display_name": "Python 3"
    },
    "language_info": {
      "name": "python"
    }
  },
  "cells": [
    {
      "cell_type": "markdown",
      "metadata": {
        "id": "view-in-github",
        "colab_type": "text"
      },
      "source": [
        "<a href=\"https://colab.research.google.com/github/Fukutaro1010/python-basic-kadai/blob/main/python_excel_kadai2.ipynb\" target=\"_parent\"><img src=\"https://colab.research.google.com/assets/colab-badge.svg\" alt=\"Open In Colab\"/></a>"
      ]
    },
    {
      "cell_type": "code",
      "execution_count": 8,
      "metadata": {
        "id": "JL4sab9IOla3"
      },
      "outputs": [],
      "source": [
        "import pandas as pd\n",
        "\n",
        "# データフレームの作成\n",
        "df = pd.DataFrame({\n",
        "    '日付':\n",
        "      ['2023-05-17', '2023-05-18', '2023-05-19', '2023-05-20', '2023-05-21'],\n",
        "    '社員名': ['山田', '佐藤', '鈴木', '田中', '高橋'],\n",
        "    '売上': [100, 200, 150, 300, 250],\n",
        "    '部門': ['メーカー', '代理店', 'メーカー', '商社', '代理店'],\n",
        "})\n",
        "\n",
        "# 優先レベルの平均を求めて新しい列を作成\n",
        "df['平均売上'] = df['売上'].mean()\n",
        "\n",
        "# 優先レベルで分岐して緊急度を求める関数「prioritize」を定義\n",
        "def performance(rank):\n",
        "  平均売上 = df['売上'].mean()\n",
        "  result = '';\n",
        "  if rank >= 平均売上 + 50:\n",
        "    result = 'A';\n",
        "  elif rank < 平均売上 + 50 and rank >= 平均売上:\n",
        "    result = 'B';\n",
        "  else:\n",
        "    result = 'C';\n",
        "  return result\n",
        "\n",
        "# 「緊急度」列を作成し、関数「prioritize」を適用して値を設定\n",
        "df['業績ランク'] = df['売上'].apply(performance)\n",
        "\n",
        "# Excelファイルを作成\n",
        "writer = pd.ExcelWriter('業績.xlsx')\n",
        "\n",
        "# DataFrameオブジェクトをExcelファイルに書き込む\n",
        "df.to_excel(writer, sheet_name='Sheet1', index=False)\n",
        "\n",
        "# Excelファイルを閉じる\n",
        "writer.close()"
      ]
    },
    {
      "cell_type": "code",
      "source": [
        "import pandas as pd\n",
        "\n",
        "#参考データ\n",
        "\n",
        "# データフレームの作成\n",
        "df = pd.DataFrame({\n",
        "    '日付':\n",
        "      ['2023-05-17', '2023-05-18', '2023-05-19', '2023-05-20', '2023-05-21'],\n",
        "    'スケジュール': ['設計', '開発', 'テスト', '運用', '保守'],\n",
        "    '優先レベル': [1, 2, 5, 4, 3],\n",
        "    '状況': ['完了', '作業中', '作業中', '未着手', '未着手'],\n",
        "})\n",
        "\n",
        "# 優先レベルの平均を求めて新しい列を作成\n",
        "df['平均レベル'] = df['優先レベル'].mean()\n",
        "\n",
        "# 優先レベルで分岐して緊急度を求める関数「prioritize」を定義\n",
        "def prioritize(level):\n",
        "  result = '';\n",
        "  if level >= 5:\n",
        "    result = '高';\n",
        "  elif level == 4 or level == 3:\n",
        "    result = '中';\n",
        "  else:\n",
        "    result = '低';\n",
        "  return result\n",
        "\n",
        "# 「緊急度」列を作成し、関数「prioritize」を適用して値を設定\n",
        "df['緊急度'] = df['優先レベル'].apply(prioritize)\n",
        "\n",
        "# Excelファイルを作成\n",
        "writer = pd.ExcelWriter('スケジュール管理表.xlsx')\n",
        "\n",
        "# DataFrameオブジェクトをExcelファイルに書き込む\n",
        "df.to_excel(writer, sheet_name='Sheet1', index=False)\n",
        "\n",
        "# Excelファイルを閉じる\n",
        "writer.close()"
      ],
      "metadata": {
        "id": "PmoOvbAPlZTi"
      },
      "execution_count": null,
      "outputs": []
    },
    {
      "cell_type": "code",
      "source": [
        "import pandas as pd\n",
        "\n",
        "#参考データ2_データ型確認用\n",
        "\n",
        "# データフレームの作成\n",
        "df = pd.DataFrame({\n",
        "    '日付':\n",
        "      ['2023-05-17', '2023-05-18', '2023-05-19', '2023-05-20', '2023-05-21'],\n",
        "    '社員名': ['山田', '佐藤', '鈴木', '田中', '高橋'],\n",
        "    '売上': [100, 200, 150, 300, 250],\n",
        "    '部門': ['メーカー', '代理店', 'メーカー', '商社', '代理店'],\n",
        "})\n",
        "\n",
        "# 優先レベルの平均を求めて新しい列を作成\n",
        "df['平均売上'] = df['売上'].mean()\n",
        "\n",
        "print(df['平均売上'] .dtypes)"
      ],
      "metadata": {
        "colab": {
          "base_uri": "https://localhost:8080/"
        },
        "id": "eYTS0OAae4at",
        "outputId": "23120171-d101-458e-80e3-e8c29a443c80"
      },
      "execution_count": null,
      "outputs": [
        {
          "output_type": "stream",
          "name": "stdout",
          "text": [
            "float64\n"
          ]
        }
      ]
    }
  ]
}