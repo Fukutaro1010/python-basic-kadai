{
  "nbformat": 4,
  "nbformat_minor": 0,
  "metadata": {
    "colab": {
      "provenance": [],
      "authorship_tag": "ABX9TyM6m8/IIx7FppsEWt/iE23q",
      "include_colab_link": true
    },
    "kernelspec": {
      "name": "python3",
      "display_name": "Python 3"
    },
    "language_info": {
      "name": "python"
    }
  },
  "cells": [
    {
      "cell_type": "markdown",
      "metadata": {
        "id": "view-in-github",
        "colab_type": "text"
      },
      "source": [
        "<a href=\"https://colab.research.google.com/github/Fukutaro1010/python-basic-kadai/blob/main/kadai_015.ipynb\" target=\"_parent\"><img src=\"https://colab.research.google.com/assets/colab-badge.svg\" alt=\"Open In Colab\"/></a>"
      ]
    },
    {
      "cell_type": "code",
      "execution_count": 23,
      "metadata": {
        "colab": {
          "base_uri": "https://localhost:8080/"
        },
        "id": "lqzOwtw0olAz",
        "outputId": "adf3c593-3476-4649-aeb6-4b5af07aca61"
      },
      "outputs": [
        {
          "output_type": "stream",
          "name": "stdout",
          "text": [
            "山田さんは25です\n"
          ]
        }
      ],
      "source": [
        "class Human:\n",
        "\n",
        "  def _init_(self, name, age):\n",
        "    self.name = name\n",
        "    self.age = age\n",
        "\n",
        "  def printinfo(self, name, age):\n",
        "      self.name = name\n",
        "      self.age = age\n",
        "      print(f\"{self.name}さんは{self.age}です\")\n",
        "\n",
        "\n",
        "info = Human()\n",
        "\n",
        "info.printinfo(\"山田\", 25)\n"
      ]
    }
  ]
}