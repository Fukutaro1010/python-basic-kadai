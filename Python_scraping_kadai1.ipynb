{
  "nbformat": 4,
  "nbformat_minor": 0,
  "metadata": {
    "colab": {
      "provenance": [],
      "authorship_tag": "ABX9TyNYGjN4bnMNduLkiTBVURxa",
      "include_colab_link": true
    },
    "kernelspec": {
      "name": "python3",
      "display_name": "Python 3"
    },
    "language_info": {
      "name": "python"
    }
  },
  "cells": [
    {
      "cell_type": "markdown",
      "metadata": {
        "id": "view-in-github",
        "colab_type": "text"
      },
      "source": [
        "<a href=\"https://colab.research.google.com/github/Fukutaro1010/python-basic-kadai/blob/main/Python_scraping_kadai1.ipynb\" target=\"_parent\"><img src=\"https://colab.research.google.com/assets/colab-badge.svg\" alt=\"Open In Colab\"/></a>"
      ]
    },
    {
      "cell_type": "code",
      "execution_count": 11,
      "metadata": {
        "colab": {
          "base_uri": "https://localhost:8080/"
        },
        "id": "sLLjcdKS_-IR",
        "outputId": "2d19cefb-f326-4102-e849-5333dc5918d1"
      },
      "outputs": [
        {
          "output_type": "stream",
          "name": "stdout",
          "text": [
            "　中古車販売ビッグモーターが保険代理店としての立場を悪用し、虚偽の自動車保険契約を結んでいた疑いがあることが30日、分かった。関係者の話を総合すると、個人が所有していない車両を対象とした保険契約が昨年、福井県の店舗で複数確認され、捏造に当たると判断された。全国で横行していた自動車保険金の水増し請求に続き、保険業法違反の恐れがある不正が新たに判明した。\n",
            "\n",
            "【写真】青森のビッグモーター、新規出店前に高評価口コミ　金融庁は31日にも同社に報告徴求命令を出し、代理店業務の実態を詳しく調べる。関東財務局も既に同社役員を呼んで任意の聴取を行った。問題が認められれば業務改善命令などの処分を出す。一定期間の業務停止や保険代理店の登録取り消しといった厳しい措置に踏み切る可能性もある。\n",
            "\n",
            "　同社は損害保険各社から委託を受け、中古車を買った客に任意の自動車保険を薦めている。保険契約の成立に伴って販売手数料を得る仕組みだ。\n",
            "\n",
            "　虚偽契約の詳しい手口は明らかになっていないが、対象車両は車検証がある展示車などが考えられる。契約者自体が存在しない人物だったとの情報は確認されていない。\n"
          ]
        }
      ],
      "source": [
        "import requests\n",
        "from bs4 import BeautifulSoup\n",
        "\n",
        "url = 'https://news.yahoo.co.jp/articles/bc53e344550fe9acf24c171211d13df507d17c77'\n",
        "\n",
        "response = requests.get(url)\n",
        "\n",
        "soup = BeautifulSoup(response.text, 'html.parser')\n",
        "\n",
        "\n",
        "coment_element = soup.select_one('#uamods > div> div> p')\n",
        "coment_element2 = soup.select_one('#uamods > div> div:nth-of-type(2)> p')\n",
        "\n",
        "coment_text = coment_element.text\n",
        "coment_text2 = coment_element2.text\n",
        "print(coment_text+coment_text2)\n",
        "\n",
        "\n"
      ]
    }
  ]
}