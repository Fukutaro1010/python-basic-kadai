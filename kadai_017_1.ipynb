{
  "nbformat": 4,
  "nbformat_minor": 0,
  "metadata": {
    "colab": {
      "provenance": [],
      "authorship_tag": "ABX9TyPhieJyDbgNcqAjurXhPjxZ",
      "include_colab_link": true
    },
    "kernelspec": {
      "name": "python3",
      "display_name": "Python 3"
    },
    "language_info": {
      "name": "python"
    }
  },
  "cells": [
    {
      "cell_type": "markdown",
      "metadata": {
        "id": "view-in-github",
        "colab_type": "text"
      },
      "source": [
        "<a href=\"https://colab.research.google.com/github/Fukutaro1010/python-basic-kadai/blob/main/kadai_017_1.ipynb\" target=\"_parent\"><img src=\"https://colab.research.google.com/assets/colab-badge.svg\" alt=\"Open In Colab\"/></a>"
      ]
    },
    {
      "cell_type": "code",
      "execution_count": 9,
      "metadata": {
        "colab": {
          "base_uri": "https://localhost:8080/"
        },
        "outputId": "49a972c5-c273-4c0c-acaf-963e69b0d78b",
        "id": "NrQDjacTKNcg"
      },
      "outputs": [
        {
          "output_type": "stream",
          "name": "stdout",
          "text": [
            "年齢入力:20\n",
            "山田さんは大人です\n",
            "年齢入力:19\n",
            "田中さんは子供です\n",
            "年齢入力:30\n",
            "山田さんは大人です\n"
          ]
        }
      ],
      "source": [
        "class Human:\n",
        "\n",
        "  def _init_(self, name, age):\n",
        "    self.name = name\n",
        "    self.age = age\n",
        "\n",
        "\n",
        "#check_adultメソッドの作成\n",
        "  def check_adult(self, name, age):\n",
        "    self.name = name\n",
        "    self.age = age\n",
        "\n",
        "\n",
        "    if self.age >= 20:\n",
        "        jugde = \"大人\"\n",
        "\n",
        "    else:\n",
        "        jugde = \"子供\"\n",
        "\n",
        "    print(self.name+\"さんは\"+ jugde +\"です\")\n",
        "\n",
        "human = Human()\n",
        "\n",
        "#リストに要素を追加して要素分だけメソッドを繰り返し\n",
        "list =[\"山田\", \"田中\", \"高橋\"]\n",
        "num = 0\n",
        "while num < len(list)-1:\n",
        "\n",
        " human.check_adult(list[num],int(input('年齢入力:')))\n",
        " num = num + 1\n",
        "\n",
        "#check_adultメソッドの挙動確認\n",
        "human.check_adult(\"山田\", int(input('年齢入力:')))\n",
        "\n"
      ]
    }
  ]
}